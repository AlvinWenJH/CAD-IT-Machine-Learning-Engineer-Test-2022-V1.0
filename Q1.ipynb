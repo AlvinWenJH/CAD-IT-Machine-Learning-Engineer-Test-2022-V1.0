{
 "cells": [
  {
   "cell_type": "markdown",
   "metadata": {},
   "source": [
    "# Import Libraries"
   ]
  },
  {
   "cell_type": "code",
   "execution_count": 1,
   "metadata": {},
   "outputs": [],
   "source": [
    "import pandas as pd\n",
    "import numpy as np\n",
    "import matplotlib.pyplot as plt\n",
    "\n",
    "from sklearn.model_selection import train_test_split\n",
    "from sklearn.ensemble import RandomForestClassifier, GradientBoostingClassifier\n",
    "from sklearn.neural_network import MLPClassifier\n",
    "from sklearn import metrics\n",
    "\n",
    "import pickle\n",
    "import joblib"
   ]
  },
  {
   "cell_type": "markdown",
   "metadata": {},
   "source": [
    "# Loading Data"
   ]
  },
  {
   "cell_type": "code",
   "execution_count": 2,
   "metadata": {},
   "outputs": [],
   "source": [
    "filename = 'Q1.csv'\n",
    "df = pd.read_csv(filename)\n",
    "\n",
    "label = df['Fault']\n",
    "column=df.columns[1:-1]\n",
    "features = df[column]"
   ]
  },
  {
   "cell_type": "markdown",
   "metadata": {},
   "source": [
    "# EDA"
   ]
  },
  {
   "cell_type": "code",
   "execution_count": 3,
   "metadata": {},
   "outputs": [
    {
     "data": {
      "text/plain": [
       "(array([8404.,    0.,    0.,    0.,    0.,    0.,    0.,    0.,    0.,\n",
       "        5443.]),\n",
       " array([0. , 0.1, 0.2, 0.3, 0.4, 0.5, 0.6, 0.7, 0.8, 0.9, 1. ]),\n",
       " <BarContainer object of 10 artists>)"
      ]
     },
     "execution_count": 3,
     "metadata": {},
     "output_type": "execute_result"
    },
    {
     "data": {
      "image/png": "[encoded data removed]",
      "text/plain": [
       "<Figure size 432x288 with 1 Axes>"
      ]
     },
     "metadata": {
      "needs_background": "light"
     },
     "output_type": "display_data"
    }
   ],
   "source": [
    "plt.hist(df['Fault'])"
   ]
  },
  {
   "cell_type": "code",
   "execution_count": 4,
   "metadata": {},
   "outputs": [
    {
     "data": {
      "image/png": "[encoded data removed]",
      "text/plain": [
       "<Figure size 1440x720 with 8 Axes>"
      ]
     },
     "metadata": {
      "needs_background": "light"
     },
     "output_type": "display_data"
    }
   ],
   "source": [
    "figure, axis = plt.subplots(2, int(len(column)/2), figsize=(20,10))\n",
    "for n,ax in enumerate(axis.reshape(-1)):\n",
    "  ax.scatter(df[column[n]], label)\n",
    "  ax.set_title(str(column[n]))"
   ]
  },
  {
   "cell_type": "markdown",
   "metadata": {},
   "source": [
    "# Training"
   ]
  },
  {
   "cell_type": "code",
   "execution_count": 4,
   "metadata": {},
   "outputs": [],
   "source": [
    "X_train, X_test, y_train, y_test = train_test_split(features, label, test_size = 0.3)"
   ]
  },
  {
   "cell_type": "code",
   "execution_count": 5,
   "metadata": {},
   "outputs": [
    {
     "name": "stdout",
     "output_type": "stream",
     "text": [
      "Predicting using RandomForest\n",
      "ACCURACY OF THE MODEL:  0.9995186522262335\n"
     ]
    },
    {
     "data": {
      "text/plain": [
       "['RandomForest.sav']"
      ]
     },
     "execution_count": 5,
     "metadata": {},
     "output_type": "execute_result"
    }
   ],
   "source": [
    "RFmodel = RandomForestClassifier(n_estimators = 100, random_state=0) \n",
    "RFmodel.fit(X_train, y_train)\n",
    "y_pred = RFmodel.predict(X_test)\n",
    "print(\"Predicting using RandomForest\")\n",
    "print(\"ACCURACY OF THE MODEL: \", metrics.accuracy_score(y_test, y_pred))\n",
    "\n",
    "joblib.dump(RFmodel, 'RandomForest.sav')"
   ]
  },
  {
   "cell_type": "code",
   "execution_count": 6,
   "metadata": {},
   "outputs": [
    {
     "name": "stdout",
     "output_type": "stream",
     "text": [
      "Predicting using XGBoost\n",
      "ACCURACY OF THE MODEL:  0.9995186522262335\n"
     ]
    },
    {
     "data": {
      "text/plain": [
       "['XGBoost.sav']"
      ]
     },
     "execution_count": 6,
     "metadata": {},
     "output_type": "execute_result"
    }
   ],
   "source": [
    "XGBmodel = GradientBoostingClassifier(n_estimators=100, learning_rate=1.0, max_depth=1, random_state=0)\n",
    "XGBmodel.fit(X_train,y_train)\n",
    "y_pred = XGBmodel.predict(X_test)\n",
    "print(\"Predicting using XGBoost\")\n",
    "print(\"ACCURACY OF THE MODEL: \", metrics.accuracy_score(y_test, y_pred))\n",
    "\n",
    "joblib.dump(XGBmodel, 'XGBoost.sav')"
   ]
  },
  {
   "cell_type": "code",
   "execution_count": 7,
   "metadata": {},
   "outputs": [
    {
     "name": "stdout",
     "output_type": "stream",
     "text": [
      "Predicting using MLP\n",
      "ACCURACY OF THE MODEL:  0.99952\n"
     ]
    },
    {
     "data": {
      "text/plain": [
       "['MLP.sav']"
      ]
     },
     "execution_count": 7,
     "metadata": {},
     "output_type": "execute_result"
    }
   ],
   "source": [
    "MLPmodel = MLPClassifier(max_iter=100, random_state=0)\n",
    "MLPmodel.fit(X_train,y_train)\n",
    "y_pred = MLPmodel.predict(X_test)\n",
    "print(\"Predicting using MLP\")\n",
    "print(\"ACCURACY OF THE MODEL: \", round(metrics.accuracy_score(y_test, y_pred),5))\n",
    "\n",
    "joblib.dump(MLPmodel, 'MLP.sav')"
   ]
  },
  {
   "cell_type": "code",
   "execution_count": 9,
   "metadata": {},
   "outputs": [
    {
     "name": "stdout",
     "output_type": "stream",
     "text": [
      "52.6 ms ± 6.3 ms per loop (mean ± std. dev. of 7 runs, 10 loops each)\n"
     ]
    }
   ],
   "source": [
    "%timeit y_pred = RFmodel.predict(X_test)"
   ]
  },
  {
   "cell_type": "code",
   "execution_count": 10,
   "metadata": {},
   "outputs": [
    {
     "name": "stdout",
     "output_type": "stream",
     "text": [
      "4.92 ms ± 171 µs per loop (mean ± std. dev. of 7 runs, 100 loops each)\n"
     ]
    }
   ],
   "source": [
    "%timeit y_pred = XGBmodel.predict(X_test)"
   ]
  },
  {
   "cell_type": "code",
   "execution_count": 11,
   "metadata": {},
   "outputs": [
    {
     "name": "stdout",
     "output_type": "stream",
     "text": [
      "6.92 ms ± 389 µs per loop (mean ± std. dev. of 7 runs, 100 loops each)\n"
     ]
    }
   ],
   "source": [
    "%timeit y_pred = MLPmodel.predict(X_test)"
   ]
  },
  {
   "cell_type": "markdown",
   "metadata": {},
   "source": [
    "# Inference"
   ]
  },
  {
   "cell_type": "code",
   "execution_count": 8,
   "metadata": {},
   "outputs": [],
   "source": [
    "models = ['RandomForest','XGBoost','MLP']"
   ]
  },
  {
   "cell_type": "code",
   "execution_count": 9,
   "metadata": {},
   "outputs": [
    {
     "name": "stdout",
     "output_type": "stream",
     "text": [
      "Predicting using RandomForest\n",
      "ACCURACY OF THE MODEL:  0.9995186522262335\n",
      "\n",
      "Predicting using XGBoost\n",
      "ACCURACY OF THE MODEL:  0.9995186522262335\n",
      "\n",
      "Predicting using MLP\n",
      "ACCURACY OF THE MODEL:  0.9995186522262335\n",
      "\n"
     ]
    }
   ],
   "source": [
    "for model in models:\n",
    "  filename = model+\".sav\"\n",
    "  joblib_model= joblib.load(filename)\n",
    "\n",
    "  score = joblib_model.score(X_test,y_test)\n",
    "  print(\"Predicting using\",model)\n",
    "  print(\"ACCURACY OF THE MODEL: \", score)\n",
    "  print()"
   ]
  },
  {
   "cell_type": "code",
   "execution_count": null,
   "metadata": {},
   "outputs": [],
   "source": []
  }
 ],
 "metadata": {
  "kernelspec": {
   "display_name": "Python 3.10.4 ('workspace')",
   "language": "python",
   "name": "python3"
  },
  "language_info": {
   "codemirror_mode": {
    "name": "ipython",
    "version": 3
   },
   "file_extension": ".py",
   "mimetype": "text/x-python",
   "name": "python",
   "nbconvert_exporter": "python",
   "pygments_lexer": "ipython3",
   "version": "3.10.4"
  },
  "orig_nbformat": 4,
  "vscode": {
   "interpreter": {
    "hash": "630d4761e2f2f8cfda2daf4c0067503f13d63727a35905c33e0db277afd52076"
   }
  }
 },
 "nbformat": 4,
 "nbformat_minor": 2
}
