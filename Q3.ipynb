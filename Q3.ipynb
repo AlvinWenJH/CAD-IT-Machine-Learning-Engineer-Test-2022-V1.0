{
 "cells": [
  {
   "cell_type": "markdown",
   "metadata": {},
   "source": [
    "# Import Libraries"
   ]
  },
  {
   "cell_type": "code",
   "execution_count": 14,
   "metadata": {},
   "outputs": [],
   "source": [
    "import glob\n",
    "import pandas as pd\n",
    "import numpy as np\n",
    "import re"
   ]
  },
  {
   "cell_type": "markdown",
   "metadata": {},
   "source": [
    "# Creating Dataset from txt files"
   ]
  },
  {
   "cell_type": "markdown",
   "metadata": {},
   "source": [
    "## Extract data from all of the txt files"
   ]
  },
  {
   "cell_type": "code",
   "execution_count": 15,
   "metadata": {},
   "outputs": [],
   "source": [
    "file_list = glob.glob(\"Q3/*txt\")\n",
    "dataset = []\n",
    "for file in file_list:\n",
    "  texts = open(file)\n",
    "  lines = [line.strip() for line in texts]\n",
    "  for line in lines:\n",
    "    if line[:3]!='###':\n",
    "      dataset.append(line)"
   ]
  },
  {
   "cell_type": "code",
   "execution_count": 16,
   "metadata": {},
   "outputs": [],
   "source": [
    "df_value=[]\n",
    "for data in dataset:\n",
    "  data = data.replace('\\t',' ')\n",
    "  data = re.split(r\"(AIMX|OWNX|CONT|BASE|MISC)\",data,maxsplit=1)\n",
    "  for dat in data:\n",
    "    if dat!='':\n",
    "      df_value.append(dat)"
   ]
  },
  {
   "cell_type": "code",
   "execution_count": 17,
   "metadata": {},
   "outputs": [],
   "source": [
    "df_value = np.expand_dims(df_value,axis=1).reshape(-1,2)"
   ]
  },
  {
   "cell_type": "code",
   "execution_count": 18,
   "metadata": {},
   "outputs": [],
   "source": [
    "df = pd.DataFrame(df_value,columns=['label','data'])"
   ]
  },
  {
   "cell_type": "code",
   "execution_count": 19,
   "metadata": {},
   "outputs": [
    {
     "data": {
      "text/html": [
       "<div>\n",
       "<style scoped>\n",
       "    .dataframe tbody tr th:only-of-type {\n",
       "        vertical-align: middle;\n",
       "    }\n",
       "\n",
       "    .dataframe tbody tr th {\n",
       "        vertical-align: top;\n",
       "    }\n",
       "\n",
       "    .dataframe thead th {\n",
       "        text-align: right;\n",
       "    }\n",
       "</style>\n",
       "<table border=\"1\" class=\"dataframe\">\n",
       "  <thead>\n",
       "    <tr style=\"text-align: right;\">\n",
       "      <th></th>\n",
       "      <th>label</th>\n",
       "      <th>data</th>\n",
       "    </tr>\n",
       "  </thead>\n",
       "  <tbody>\n",
       "    <tr>\n",
       "      <th>0</th>\n",
       "      <td>MISC</td>\n",
       "      <td>The Minimum Description Length principle for ...</td>\n",
       "    </tr>\n",
       "    <tr>\n",
       "      <th>1</th>\n",
       "      <td>MISC</td>\n",
       "      <td>If the underlying model class is discrete, th...</td>\n",
       "    </tr>\n",
       "    <tr>\n",
       "      <th>2</th>\n",
       "      <td>MISC</td>\n",
       "      <td>For MDL, in general one can only have loss bo...</td>\n",
       "    </tr>\n",
       "    <tr>\n",
       "      <th>3</th>\n",
       "      <td>AIMX</td>\n",
       "      <td>We show that this is even the case if the mod...</td>\n",
       "    </tr>\n",
       "    <tr>\n",
       "      <th>4</th>\n",
       "      <td>OWNX</td>\n",
       "      <td>We derive a new upper bound on the prediction...</td>\n",
       "    </tr>\n",
       "    <tr>\n",
       "      <th>...</th>\n",
       "      <td>...</td>\n",
       "      <td>...</td>\n",
       "    </tr>\n",
       "    <tr>\n",
       "      <th>3112</th>\n",
       "      <td>MISC</td>\n",
       "      <td>This paved the way for the development of pre...</td>\n",
       "    </tr>\n",
       "    <tr>\n",
       "      <th>3113</th>\n",
       "      <td>MISC</td>\n",
       "      <td>To our knowledge, the first of these methods ...</td>\n",
       "    </tr>\n",
       "    <tr>\n",
       "      <th>3114</th>\n",
       "      <td>BASE</td>\n",
       "      <td>Although our method, detailed in the followin...</td>\n",
       "    </tr>\n",
       "    <tr>\n",
       "      <th>3115</th>\n",
       "      <td>OWNX</td>\n",
       "      <td>By the latter we consider a seemingly trivial...</td>\n",
       "    </tr>\n",
       "    <tr>\n",
       "      <th>3116</th>\n",
       "      <td>OWNX</td>\n",
       "      <td>The accuracy of the method makes it attractiv...</td>\n",
       "    </tr>\n",
       "  </tbody>\n",
       "</table>\n",
       "<p>3117 rows × 2 columns</p>\n",
       "</div>"
      ],
      "text/plain": [
       "     label                                               data\n",
       "0     MISC   The Minimum Description Length principle for ...\n",
       "1     MISC   If the underlying model class is discrete, th...\n",
       "2     MISC   For MDL, in general one can only have loss bo...\n",
       "3     AIMX   We show that this is even the case if the mod...\n",
       "4     OWNX   We derive a new upper bound on the prediction...\n",
       "...    ...                                                ...\n",
       "3112  MISC   This paved the way for the development of pre...\n",
       "3113  MISC   To our knowledge, the first of these methods ...\n",
       "3114  BASE   Although our method, detailed in the followin...\n",
       "3115  OWNX   By the latter we consider a seemingly trivial...\n",
       "3116  OWNX   The accuracy of the method makes it attractiv...\n",
       "\n",
       "[3117 rows x 2 columns]"
      ]
     },
     "execution_count": 19,
     "metadata": {},
     "output_type": "execute_result"
    }
   ],
   "source": [
    "df"
   ]
  },
  {
   "cell_type": "markdown",
   "metadata": {},
   "source": [
    "# Training"
   ]
  },
  {
   "cell_type": "code",
   "execution_count": 64,
   "metadata": {},
   "outputs": [],
   "source": [
    "import os\n",
    "import pandas as pd\n",
    "import tensorflow as tf\n",
    "import numpy as np\n",
    "from tensorflow.keras.layers import TextVectorization\n",
    "from tensorflow.keras.models import Sequential\n",
    "from tensorflow.keras.layers import LSTM, Dropout, Bidirectional, Dense, Embedding\n",
    "from sklearn.preprocessing import LabelBinarizer\n",
    "from sklearn.model_selection import train_test_split\n",
    "\n",
    "from matplotlib import pyplot as plt\n"
   ]
  },
  {
   "cell_type": "code",
   "execution_count": 65,
   "metadata": {},
   "outputs": [],
   "source": [
    "encoder = LabelBinarizer()\n",
    "encoder.fit(df['label'])\n",
    "y = encoder.transform(df['label'])"
   ]
  },
  {
   "cell_type": "code",
   "execution_count": 66,
   "metadata": {},
   "outputs": [
    {
     "data": {
      "text/plain": [
       "[0, 4, 2, 1, 3]"
      ]
     },
     "execution_count": 66,
     "metadata": {},
     "output_type": "execute_result"
    }
   ],
   "source": [
    "[np.argmax(item) for item in encoder.transform(['AIMX','OWNX','CONT','BASE','MISC'])]"
   ]
  },
  {
   "cell_type": "code",
   "execution_count": 67,
   "metadata": {},
   "outputs": [],
   "source": [
    "MAX_FEATURES = 200000\n",
    "\n",
    "vectorizer = TextVectorization(max_tokens=MAX_FEATURES,\n",
    "                               output_sequence_length=180,\n",
    "                               output_mode='int')\n",
    "\n",
    "vectorizer.adapt(df['data'].values)\n",
    "vectorized_text = vectorizer(df['data'].values)"
   ]
  },
  {
   "cell_type": "code",
   "execution_count": 68,
   "metadata": {},
   "outputs": [],
   "source": [
    "vectorized_text = vectorized_text.numpy()"
   ]
  },
  {
   "cell_type": "code",
   "execution_count": 69,
   "metadata": {},
   "outputs": [
    {
     "data": {
      "text/plain": [
       "(3117, 180)"
      ]
     },
     "execution_count": 69,
     "metadata": {},
     "output_type": "execute_result"
    }
   ],
   "source": [
    "np.shape(vectorized_text)"
   ]
  },
  {
   "cell_type": "code",
   "execution_count": 70,
   "metadata": {},
   "outputs": [
    {
     "data": {
      "text/plain": [
       "(3117, 5)"
      ]
     },
     "execution_count": 70,
     "metadata": {},
     "output_type": "execute_result"
    }
   ],
   "source": [
    "np.shape(y)"
   ]
  },
  {
   "cell_type": "code",
   "execution_count": 71,
   "metadata": {},
   "outputs": [],
   "source": [
    "X_train_val,X_test,y_train_val,y_test = train_test_split(vectorized_text,y,test_size=0.2,random_state=1)\n",
    "X_train,X_val,y_train,y_val = train_test_split(X_train_val,y_train_val,test_size=0.2,random_state=1)"
   ]
  },
  {
   "cell_type": "code",
   "execution_count": 72,
   "metadata": {},
   "outputs": [
    {
     "name": "stdout",
     "output_type": "stream",
     "text": [
      "1994\n",
      "624\n",
      "499\n"
     ]
    }
   ],
   "source": [
    "print(len(X_train))\n",
    "print(len(X_test))\n",
    "print(len(X_val))"
   ]
  },
  {
   "cell_type": "code",
   "execution_count": 73,
   "metadata": {},
   "outputs": [
    {
     "name": "stdout",
     "output_type": "stream",
     "text": [
      "Model: \"sequential_4\"\n",
      "_________________________________________________________________\n",
      " Layer (type)                Output Shape              Param #   \n",
      "=================================================================\n",
      " embedding (Embedding)       (None, None, 32)          6400032   \n",
      "                                                                 \n",
      " bidirectional (Bidirectiona  (None, 64)               16640     \n",
      " l)                                                              \n",
      "                                                                 \n",
      " dense (Dense)               (None, 128)               8320      \n",
      "                                                                 \n",
      " dense_1 (Dense)             (None, 256)               33024     \n",
      "                                                                 \n",
      " dense_2 (Dense)             (None, 128)               32896     \n",
      "                                                                 \n",
      " dense_3 (Dense)             (None, 5)                 645       \n",
      "                                                                 \n",
      "=================================================================\n",
      "Total params: 6,491,557\n",
      "Trainable params: 6,491,557\n",
      "Non-trainable params: 0\n",
      "_________________________________________________________________\n"
     ]
    }
   ],
   "source": [
    "model = Sequential()\n",
    "model.add(Embedding(MAX_FEATURES+1, 32))\n",
    "model.add(Bidirectional(LSTM(32, activation='tanh')))\n",
    "model.add(Dense(128, activation='relu'))\n",
    "model.add(Dense(256, activation='relu'))\n",
    "model.add(Dense(128, activation='relu'))\n",
    "model.add(Dense(5, activation='softmax')) \n",
    "model.compile(loss='categorical_crossentropy', optimizer='Adam',metrics=['accuracy'])\n",
    "model.summary()"
   ]
  },
  {
   "cell_type": "code",
   "execution_count": 74,
   "metadata": {},
   "outputs": [
    {
     "name": "stdout",
     "output_type": "stream",
     "text": [
      "Epoch 1/10\n",
      "63/63 [==============================] - 71s 162ms/step - loss: 1.1548 - accuracy: 0.5797 - val_loss: 0.9865 - val_accuracy: 0.6032\n",
      "Epoch 2/10\n",
      "63/63 [==============================] - 5s 75ms/step - loss: 0.7959 - accuracy: 0.6886 - val_loss: 0.5940 - val_accuracy: 0.8016\n",
      "Epoch 3/10\n",
      "63/63 [==============================] - 4s 65ms/step - loss: 0.4527 - accuracy: 0.8360 - val_loss: 0.5424 - val_accuracy: 0.8457\n",
      "Epoch 4/10\n",
      "63/63 [==============================] - 4s 67ms/step - loss: 0.3490 - accuracy: 0.8746 - val_loss: 0.5291 - val_accuracy: 0.8297\n",
      "Epoch 5/10\n",
      "63/63 [==============================] - 5s 73ms/step - loss: 0.2727 - accuracy: 0.8862 - val_loss: 0.5830 - val_accuracy: 0.8297\n",
      "Epoch 6/10\n",
      "63/63 [==============================] - 4s 63ms/step - loss: 0.2451 - accuracy: 0.8947 - val_loss: 0.6144 - val_accuracy: 0.8437\n",
      "Epoch 7/10\n",
      "63/63 [==============================] - 4s 71ms/step - loss: 0.2322 - accuracy: 0.8997 - val_loss: 0.6199 - val_accuracy: 0.8417\n",
      "Epoch 8/10\n",
      "63/63 [==============================] - 5s 81ms/step - loss: 0.2151 - accuracy: 0.9027 - val_loss: 0.6148 - val_accuracy: 0.8437\n",
      "Epoch 9/10\n",
      "63/63 [==============================] - 4s 71ms/step - loss: 0.2026 - accuracy: 0.8982 - val_loss: 0.6377 - val_accuracy: 0.8317\n",
      "Epoch 10/10\n",
      "63/63 [==============================] - 4s 70ms/step - loss: 0.1930 - accuracy: 0.9107 - val_loss: 0.6999 - val_accuracy: 0.8437\n"
     ]
    }
   ],
   "source": [
    "history = model.fit(X_train,y_train, epochs=10, validation_data=(X_val,y_val))"
   ]
  },
  {
   "cell_type": "code",
   "execution_count": 75,
   "metadata": {},
   "outputs": [
    {
     "data": {
      "image/png": "[encoded data removed]",
      "text/plain": [
       "<Figure size 720x360 with 2 Axes>"
      ]
     },
     "metadata": {
      "needs_background": "light"
     },
     "output_type": "display_data"
    }
   ],
   "source": [
    "acc = history.history['accuracy']\n",
    "val_acc = history.history['val_accuracy']\n",
    "loss = history.history['loss']\n",
    "val_loss = history.history['val_loss']\n",
    " \n",
    "plt.figure(figsize=(10, 5))\n",
    "plt.rcParams['figure.figsize'] = [16, 9]\n",
    "plt.rcParams['font.size'] = 10\n",
    "plt.rcParams['axes.grid'] = True\n",
    "plt.rcParams['figure.facecolor'] = 'white'\n",
    "plt.subplot(1, 2, 1)\n",
    "plt.plot(acc, label='Training Accuracy')\n",
    "plt.plot(val_acc, label='Validation Accuracy')\n",
    "plt.legend(loc='lower right')\n",
    "plt.ylabel('Accuracy')\n",
    "plt.title('Training and Validation Accuracy')\n",
    "\n",
    "plt.subplot(1, 2, 2)\n",
    "plt.plot(loss, label='Training Loss')\n",
    "plt.plot(val_loss, label='Validation Loss')\n",
    "plt.legend(loc='upper right')\n",
    "plt.ylabel('Cross Entropy')\n",
    "plt.title('Training and Validation Loss')\n",
    "plt.xlabel('epoch')\n",
    "plt.show()"
   ]
  },
  {
   "cell_type": "markdown",
   "metadata": {},
   "source": [
    "# Evaluate Model"
   ]
  },
  {
   "cell_type": "code",
   "execution_count": 76,
   "metadata": {},
   "outputs": [
    {
     "name": "stdout",
     "output_type": "stream",
     "text": [
      "20/20 [==============================] - 3s 23ms/step\n"
     ]
    }
   ],
   "source": [
    "y_pred = model.predict(X_test)"
   ]
  },
  {
   "cell_type": "code",
   "execution_count": 77,
   "metadata": {},
   "outputs": [
    {
     "name": "stdout",
     "output_type": "stream",
     "text": [
      "624 624\n"
     ]
    }
   ],
   "source": [
    "label_pred = np.array([np.argmax(item) for item in y_pred])\n",
    "label_test = np.array([np.argmax(item) for item in y_test])\n",
    "print(len(label_pred), len(label_test))"
   ]
  },
  {
   "cell_type": "code",
   "execution_count": 78,
   "metadata": {},
   "outputs": [
    {
     "name": "stdout",
     "output_type": "stream",
     "text": [
      "The Categorical Accuracy is : 84.46000000000001 %\n"
     ]
    }
   ],
   "source": [
    "CategoricalAccuracy = sum(label_pred == label_test)/len(label_test)\n",
    "print(\"The Categorical Accuracy is :\", np.round(CategoricalAccuracy,4)*100,'%')"
   ]
  },
  {
   "cell_type": "markdown",
   "metadata": {},
   "source": [
    "# Save Model and Vectorizer"
   ]
  },
  {
   "cell_type": "code",
   "execution_count": 79,
   "metadata": {},
   "outputs": [],
   "source": [
    "import pickle"
   ]
  },
  {
   "cell_type": "code",
   "execution_count": 80,
   "metadata": {},
   "outputs": [],
   "source": [
    "model.save(\"Q3.h5\")"
   ]
  },
  {
   "cell_type": "code",
   "execution_count": 81,
   "metadata": {},
   "outputs": [],
   "source": [
    "pickle.dump({'config': vectorizer.get_config(),\n",
    "             'weights': vectorizer.get_weights()}\n",
    "            , open(\"vectorizer.pkl\", \"wb\"))"
   ]
  },
  {
   "cell_type": "markdown",
   "metadata": {},
   "source": [
    "# Inference"
   ]
  },
  {
   "cell_type": "code",
   "execution_count": 82,
   "metadata": {},
   "outputs": [],
   "source": [
    "import numpy as np\n",
    "import tensorflow as tf\n",
    "from tensorflow.keras.models import load_model\n",
    "from tensorflow.keras.layers import TextVectorization\n",
    "import pickle"
   ]
  },
  {
   "cell_type": "code",
   "execution_count": 83,
   "metadata": {},
   "outputs": [],
   "source": [
    "model = load_model(\"Q3.h5\")\n",
    "\n",
    "from_disk = pickle.load(open(\"vectorizer.pkl\", \"rb\"))\n",
    "vectorizer = TextVectorization.from_config(from_disk['config'])\n",
    "vectorizer.adapt(tf.data.Dataset.from_tensor_slices([\"xyz\"]))\n",
    "vectorizer.set_weights(from_disk['weights'])"
   ]
  },
  {
   "cell_type": "code",
   "execution_count": 100,
   "metadata": {},
   "outputs": [
    {
     "data": {
      "text/plain": [
       "(1, 180)"
      ]
     },
     "execution_count": 100,
     "metadata": {},
     "output_type": "execute_result"
    }
   ],
   "source": [
    "np.expand_dims(X_test[0],axis=0).shape"
   ]
  },
  {
   "cell_type": "code",
   "execution_count": 93,
   "metadata": {},
   "outputs": [
    {
     "data": {
      "text/plain": [
       "(180,)"
      ]
     },
     "execution_count": 93,
     "metadata": {},
     "output_type": "execute_result"
    }
   ],
   "source": [
    "s = \"this paper talks about the\"\n",
    "X = vectorizer(s)\n",
    "X.numpy().shape"
   ]
  },
  {
   "cell_type": "code",
   "execution_count": 103,
   "metadata": {},
   "outputs": [],
   "source": [
    "def Inference(s):\n",
    "  X = vectorizer(s).numpy()\n",
    "  y_pred = model.predict(np.expand_dims(X,axis=0))\n",
    "  label = np.argmax(y_pred)\n",
    "  label_dict = dict(zip(['AIMX','OWNX','CONT','BASE','MISC'],[0, 4, 2, 1, 3]))\n",
    "  print(list(label_dict.keys())[list(label_dict.values()).index(label)])"
   ]
  },
  {
   "cell_type": "code",
   "execution_count": 108,
   "metadata": {},
   "outputs": [
    {
     "name": "stdout",
     "output_type": "stream",
     "text": [
      "1/1 [==============================] - 0s 62ms/step\n",
      "OWNX\n"
     ]
    }
   ],
   "source": [
    "Inference(\"we release to the community the as level topology dataset augmented with   NUMBER   the as taxonomy information and  NUMBER   the set of as attributes we used to classify ases\")"
   ]
  }
 ],
 "metadata": {
  "kernelspec": {
   "display_name": "Python 3.10.4 ('workspace')",
   "language": "python",
   "name": "python3"
  },
  "language_info": {
   "codemirror_mode": {
    "name": "ipython",
    "version": 3
   },
   "file_extension": ".py",
   "mimetype": "text/x-python",
   "name": "python",
   "nbconvert_exporter": "python",
   "pygments_lexer": "ipython3",
   "version": "3.10.4"
  },
  "orig_nbformat": 4,
  "vscode": {
   "interpreter": {
    "hash": "630d4761e2f2f8cfda2daf4c0067503f13d63727a35905c33e0db277afd52076"
   }
  }
 },
 "nbformat": 4,
 "nbformat_minor": 2
}
